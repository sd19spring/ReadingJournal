{
 "cells": [
  {
   "cell_type": "markdown",
   "metadata": {},
   "source": [
    "# Day 21 Reading Journal\n",
    "\n",
    "\n",
    "## READMEs\n",
    "\n",
    "The README file is an important part of every project, and is often the first thing that people looking at your work will see (especially on GitHub). \n",
    "We'll be talking about what makes a good project README in a future class.\n",
    "\n",
    "\n",
    "Please read at least two of the following:\n",
    " * [18F.gov Guide to Making READMEs readable](https://github.com/18F/open-source-guide/blob/18f-pages/pages/making-readmes-readable.md)\n",
    " * [Starting an Open Source Project: Writing a README](https://opensource.guide/starting-a-project/#writing-a-readme) - part of a larger guide\n",
    " * [Template for a good README](https://gist.github.com/PurpleBooth/109311bb0361f32d87a2)"
   ]
  },
  {
   "cell_type": "markdown",
   "metadata": {},
   "source": [
    "### Exercise: \n",
    "Synthesize your thoughts on the recommendations, and come up with a list of important elements to include in a README\n",
    "\n",
    "- thing one\n",
    "- thing two\n"
   ]
  },
  {
   "cell_type": "markdown",
   "metadata": {},
   "source": [
    "## Markdown\n",
    "\n",
    "READMEs on GitHub are written in Markdown, an enhanced style of plain text that can include some formatting.\n",
    "If you're not already a pro, read [Mastering Markdown](https://guides.github.com/features/mastering-markdown/).\n"
   ]
  },
  {
   "cell_type": "markdown",
   "metadata": {},
   "source": [
    "### Exercise:\n",
    "Play around with Markdown syntax in this cell and try something new\n",
    "\n",
    "#### Things that are written in Markdown\n",
    " - GitHub READMEs\n",
    " - [Jupyter Notebook text cells](https://jupyter-notebook.readthedocs.io/en/stable/examples/Notebook/Working%20With%20Markdown%20Cells.html)\n",
    " - The class website (implemented with [Jekyll](https://jekyllrb.com/))"
   ]
  },
  {
   "cell_type": "markdown",
   "metadata": {
    "is_question": true,
    "problem": "Exercise B.1"
   },
   "source": [
    "## Naming\n",
    "\n",
    "`mini-project-4-interactive-visualization-myteam` is a terrible name for a project repository, and\n",
    "_\"mini-project-4-interactive-visualization-myteam created by GitHub Classroom\"_ is a worse summary description.\n",
    "Unfortunately those ungainly defaults are what your projects will be branded with unless you improve them.\n",
    "\n",
    "From 18F.gov's open source guide:\n",
    "\n",
    "> Before naming a project, think ‘Is this easy to understand?’\n",
    ">\n",
    "> To help users find and recognize your project, we recommend using descriptive names that describe what your project does. You should avoid acronyms and clever names/puns as those can make it hard to search for projects.\n",
    ">\n",
    "> You should also do a quick search on the web for your project's name to make sure that name isn't already being used by other software or services, even if it's used in a different space, as it can be confusing for new users.\n",
    ">\n",
    "> For example, if you were creating a template your coworkers could use to create guides, a good name for the repo might be guides-template. Bad names might include the-unnamed-project-that-makes-it-easy-to-build-stuff, temp-latte, or guidestar.\n",
    ">\n",
    "> Within the context of GitHub, the name of your project will always be placed alongside its organizational owner's name. So it's unnecessary to combine the two: instead of naming a project software-design-foo, you can simply name it foo.\n"
   ]
  },
  {
   "cell_type": "markdown",
   "metadata": {
    "solution": "Exercise B.1"
   },
   "source": [
    "### Exercise: \n",
    "\n",
    "Write a better project name and one sentence description for _your_ MP3 and MP4 work.\n",
    "\n",
    " - **MP3 title:** \n",
    " - **MP3 description:**\n",
    "\n",
    " - **MP4 title:** \n",
    " - **MP4 description:**\n",
    "\n",
    "\n",
    "If you'd like to make it official, you can edit your repository name on GitHub (under \"Settings\") and description to better represent the theme of your project. If you want to discuss your thoughts with course staff first, go for it.\n"
   ]
  },
  {
   "cell_type": "markdown",
   "metadata": {},
   "source": [
    "## Portfolios\n",
    "\n",
    "In class we talked about turning your Software Design work (and other projects) into portfolio entries for future use.\n",
    "\n",
    "### Exercise:\n",
    "\n",
    "In the box below, write a one paragraph description of your MP3 project work as it might appear on your personal portfolio. Include at least one representative image (see Markdown guide for how to embed images). \n",
    "\n",
    "You've already got a great title and single-sentence description for your MP3 project (see above), and you've also created a slide which may give you a head start with this (though the content is unlikely to be identical)."
   ]
  },
  {
   "cell_type": "code",
   "execution_count": null,
   "metadata": {
    "collapsed": true
   },
   "outputs": [],
   "source": []
  },
  {
   "cell_type": "markdown",
   "metadata": {
    "is_poll": true,
    "is_question": true,
    "problem": "Time spent"
   },
   "source": [
    "## Quick poll\n",
    "About how long did you spend working on this Reading Journal?"
   ]
  },
  {
   "cell_type": "markdown",
   "metadata": {
    "poll_response": true,
    "solution": "Time spent"
   },
   "source": [
    " "
   ]
  },
  {
   "cell_type": "markdown",
   "metadata": {
    "is_question": true,
    "problem": "Feedback"
   },
   "source": [
    "## Reading Journal feedback\n",
    "\n",
    "Have any comments on this Reading Journal? Feel free to leave them below and we'll read them when you submit your journal entry. This could include suggestions to improve the exercises, topics you'd like to see covered in class next time, or other feedback.\n",
    "\n",
    "If you have Python questions or run into problems while completing the reading, you should post them to the discussion forum instead so you can get a quick response before your journal is submitted."
   ]
  },
  {
   "cell_type": "markdown",
   "metadata": {
    "feedback_response": true,
    "solution": "Feedback"
   },
   "source": [
    " "
   ]
  }
 ],
 "metadata": {
  "celltoolbar": "Edit Metadata",
  "kernelspec": {
   "display_name": "Python 3",
   "language": "python",
   "name": "python3"
  },
  "language_info": {
   "codemirror_mode": {
    "name": "ipython",
    "version": 3
   },
   "file_extension": ".py",
   "mimetype": "text/x-python",
   "name": "python",
   "nbconvert_exporter": "python",
   "pygments_lexer": "ipython3",
   "version": "3.7.1"
  }
 },
 "nbformat": 4,
 "nbformat_minor": 1
}
