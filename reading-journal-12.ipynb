{
 "cells": [
  {
   "cell_type": "markdown",
   "metadata": {},
   "source": [
    "# Day 12 Reading Journal\n",
    "\n",
    "Reading: \n",
    " - _Think Python_ [Chapter 14.5-14.11](http://www.greenteapress.com/thinkpython2/html/thinkpython2015.html)\n",
    " - [How to Write a Git Commit Message](https://chris.beams.io/posts/git-commit/)\n",
    " - [Check In Early, Check In Often](https://blog.codinghorror.com/check-in-early-check-in-often/)"
   ]
  },
  {
   "cell_type": "markdown",
   "metadata": {},
   "source": [
    "## [Chapter 14.5-14.11](http://www.greenteapress.com/thinkpython2/html/thinkpython2015.html)\n",
    "\n",
    "\n",
    "Section 14.5 discusses catching [Exceptions](https://docs.python.org/3/tutorial/errors.html) in code using the `try ... except` pattern. This is great because most of the time you just write the same code you always would (the `try` part), but you can gracefully deal with errors instead of crashing your program (the `except` part).\n",
    "\n",
    "The part that's not so great about the example code is the fact that the naked `except` block catches *every* type of Exception indiscriminately. As an (contrived) example, imagine your program did `reciprocal = 1/value`. You will get different errors and the fix may be different if `value` is 0 versus if it is `\"pasta\"` (try it).\n"
   ]
  },
  {
   "cell_type": "code",
   "execution_count": null,
   "metadata": {},
   "outputs": [],
   "source": [
    "value = 0\n",
    "reciprocal = 1/value"
   ]
  },
  {
   "cell_type": "code",
   "execution_count": null,
   "metadata": {},
   "outputs": [],
   "source": [
    "value = \"pasta\"\n",
    "reciprocal = 1/value"
   ]
  },
  {
   "cell_type": "markdown",
   "metadata": {},
   "source": [
    "Fortunately, there is an extended version of the `try ... except` syntax that will allow us full control of the situation:"
   ]
  },
  {
   "cell_type": "code",
   "execution_count": null,
   "metadata": {},
   "outputs": [],
   "source": [
    "value = 7  # Test some other cases\n",
    "try:\n",
    "    reciprocal = 1/value\n",
    "except ZeroDivisionError:\n",
    "    reciprocal = 99999  # Basically infinity\n",
    "except TypeError:\n",
    "    print(\"'value' must be a number, try again\")\n",
    "\n",
    "print(\"Reciprocal is:\", reciprocal)"
   ]
  },
  {
   "cell_type": "markdown",
   "metadata": {},
   "source": [
    "As a general principle, you should only catch Exceptions that your `except` block is prepared to deal with, and let other Exceptions through. They may be caught elsewhere in the program, or they cause your program to stop, providing useful information when they do. If you catch every Exception, you may unintentionally mask unexpected errors that are happening and lose that helpful Traceback information.\n",
    "\n",
    "\n",
    "### Exercise\n",
    "\n",
    " - Choose a short section of your MP3 code that does something that might raise an Exception. For example, you might choose the lines that read or download a file. Paste that code in the `try` block below.\n",
    " - Figure out what type of Exception your code causes when something goes wrong. For example, try reading a file that doesn't exist. Paste this exception type in place of `YourSpecificException` below.\n",
    " - Write some code to handle the exception, even if it's just printing an error and exiting the program. Paste it in the `except` block below."
   ]
  },
  {
   "cell_type": "code",
   "execution_count": null,
   "metadata": {},
   "outputs": [],
   "source": [
    "# Snippet of MP3 code that handles exceptions\n",
    "try:\n",
    "    # Your code that e.g. reads a file or downloads something\n",
    "\n",
    "except YourSpecificException:\n",
    "    # Replace \"YourSpecificException\" above with the actual type, \n",
    "    # and put some code here to handle it (even if it's just printing an error and exiting)\n",
    "    "
   ]
  },
  {
   "cell_type": "markdown",
   "metadata": {
    "is_question": true,
    "problem": "Exercise 15.1"
   },
   "source": [
    "### Exercise\n",
    "\n",
    "This chapter includes several options for persistent storage of data across multiple runs of a program:\n",
    " - Saving to files\n",
    " - Chapter 14.6 Databases\n",
    " - Chapter 14.7 Pickling\n",
    " \n",
    "Try out at least one of these options to save your data from MP3. You can paste your experiment in the cell(s) below."
   ]
  },
  {
   "cell_type": "code",
   "execution_count": null,
   "metadata": {
    "solution": "Exercise 15.1"
   },
   "outputs": [],
   "source": []
  },
  {
   "cell_type": "markdown",
   "metadata": {},
   "source": [
    "## [How to Write a Git Commit Message](https://chris.beams.io/posts/git-commit/)\n",
    "\n",
    "### Exercise\n",
    "\n",
    "Choose a commit message from one of your past mini-projects (run `git log` from within the repository to see your history). Paste the commit message below (it doesn't have to be a great one, and in fact it's probably better if it has room for improvement):\n"
   ]
  },
  {
   "cell_type": "code",
   "execution_count": null,
   "metadata": {},
   "outputs": [],
   "source": [
    "Original commit message\n"
   ]
  },
  {
   "cell_type": "markdown",
   "metadata": {},
   "source": [
    "Using the \"seven rules of a great Git commit message\" from the reading, write a more useful version of the original commit message in the box below:"
   ]
  },
  {
   "cell_type": "code",
   "execution_count": null,
   "metadata": {},
   "outputs": [],
   "source": [
    "Improved commit message:\n",
    "    "
   ]
  },
  {
   "cell_type": "markdown",
   "metadata": {},
   "source": [
    "## [Check In Early, Check In Often](https://blog.codinghorror.com/check-in-early-check-in-often/)\n",
    "\n",
    "### Exercise\n",
    "\n",
    "What are the benefits of checking in code more often? Are there any drawbacks? Explain below."
   ]
  },
  {
   "cell_type": "markdown",
   "metadata": {},
   "source": []
  },
  {
   "cell_type": "markdown",
   "metadata": {
    "poll_response": true,
    "solution": "Time spent"
   },
   "source": [
    " ## Quick poll\n",
    "About how long did you spend working on this Reading Journal?"
   ]
  },
  {
   "cell_type": "markdown",
   "metadata": {},
   "source": []
  },
  {
   "cell_type": "markdown",
   "metadata": {
    "is_question": true,
    "problem": "Feedback"
   },
   "source": [
    "## Reading Journal feedback\n",
    "\n",
    "Have any comments on this Reading Journal? Feel free to leave them below and we'll read them when you submit your journal entry. This could include suggestions to improve the exercises, topics you'd like to see covered in class next time, or other feedback.\n",
    "\n",
    "If you have Python questions or run into problems while completing the reading, you should post them to the course discussion forum instead so you can get a quick response before your journal is submitted."
   ]
  },
  {
   "cell_type": "markdown",
   "metadata": {},
   "source": []
  },
  {
   "cell_type": "markdown",
   "metadata": {
    "feedback_response": true,
    "solution": "Feedback"
   },
   "source": [
    " "
   ]
  }
 ],
 "metadata": {
  "kernelspec": {
   "display_name": "Python 3",
   "language": "python",
   "name": "python3"
  },
  "language_info": {
   "codemirror_mode": {
    "name": "ipython",
    "version": 3
   },
   "file_extension": ".py",
   "mimetype": "text/x-python",
   "name": "python",
   "nbconvert_exporter": "python",
   "pygments_lexer": "ipython3",
   "version": "3.7.1"
  }
 },
 "nbformat": 4,
 "nbformat_minor": 1
}
